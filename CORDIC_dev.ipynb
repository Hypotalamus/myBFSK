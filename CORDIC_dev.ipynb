{
 "cells": [
  {
   "cell_type": "code",
   "execution_count": 1,
   "metadata": {},
   "outputs": [],
   "source": [
    "import numpy as np\n",
    "from myhdl import *\n",
    "from src.utils import IQdata\n",
    "from src.CORDIC import CORDIC"
   ]
  },
  {
   "cell_type": "code",
   "execution_count": 2,
   "metadata": {},
   "outputs": [],
   "source": [
    "dBw = 12\n",
    "cordBw = 16\n",
    "cordBwInt = 19\n",
    "stQnt = 17\n",
    "cord = CORDIC(dBw, cordBw, stQnt, cordBwInt)\n",
    "\n",
    "normConv = False\n",
    "\n",
    "if normConv:\n",
    "    i_clk = Signal(bool(0))\n",
    "    i_rst = ResetSignal(0, active=bool(1), isasync=False)\n",
    "    i_d = IQdata(dBw)\n",
    "    i_dv = Signal(bool(0))\n",
    "    o_d = IQdata(dBw)\n",
    "    o_dv = Signal(bool(0))\n",
    "\n",
    "    inst = cord.norm(i_clk, i_rst, i_d, i_dv, o_d, o_dv)\n",
    "    inst.convert(hdl='VHDL', path='./vhdl');\n",
    "\n",
    "    with open('./vhdl/norm.vhd') as f:\n",
    "        print(f.read())"
   ]
  },
  {
   "cell_type": "code",
   "execution_count": 3,
   "metadata": {},
   "outputs": [],
   "source": [
    "rotateConv = False\n",
    "\n",
    "if rotateConv:\n",
    "    i_clk = Signal(bool(0))\n",
    "    i_rst = ResetSignal(0, active=bool(1), isasync=False)\n",
    "    i_d = IQdata(cordBwInt)\n",
    "    i_dv = Signal(bool(0))\n",
    "    i_ang = Signal(intbv(0, min=-2**(cordBwInt-1), max=2**(cordBwInt-1)))\n",
    "    o_d = IQdata(cordBwInt)\n",
    "    o_dv = Signal(bool(0))\n",
    "    o_ang = Signal(intbv(0, min=-2**(cordBwInt-1), max=2**(cordBwInt-1)))\n",
    "    ind = 1\n",
    "    ang = int(cord.angs[ind])\n",
    "\n",
    "    inst = cord.rotate(i_clk, i_rst, i_d, i_dv, i_ang, o_d, o_dv, o_ang, ang, ind)\n",
    "    inst.convert(hdl='VHDL', path='./vhdl');\n",
    "\n",
    "    with open('./vhdl/rotate.vhd') as f:\n",
    "        print(f.read())"
   ]
  },
  {
   "cell_type": "code",
   "execution_count": 4,
   "metadata": {},
   "outputs": [],
   "source": [
    "rtlConv = False\n",
    "\n",
    "if rtlConv:\n",
    "    cord.convert()\n",
    "\n",
    "    with open('./vhdl/CORDIC.vhd') as f:\n",
    "        print(f.read())"
   ]
  },
  {
   "cell_type": "code",
   "execution_count": 5,
   "metadata": {},
   "outputs": [
    {
     "name": "stdout",
     "output_type": "stream",
     "text": [
      " **** Test passed **** \n"
     ]
    }
   ],
   "source": [
    "tb = cord.test_rtl(wrToFile=False, randQnt=10000)\n",
    "tb.config_sim(trace=False)\n",
    "tb.run_sim()"
   ]
  },
  {
   "cell_type": "code",
   "execution_count": 6,
   "metadata": {},
   "outputs": [
    {
     "name": "stdout",
     "output_type": "stream",
     "text": [
      "[]\n",
      "[]\n"
     ]
    }
   ],
   "source": [
    "neq = np.where(cord.anglesRef[:len(cord.rtlOuts)]!=cord.rtlOuts)[0]\n",
    "print(cord.anglesRef[neq])\n",
    "print(cord.rtlOuts[neq])"
   ]
  },
  {
   "cell_type": "code",
   "execution_count": null,
   "metadata": {},
   "outputs": [],
   "source": []
  }
 ],
 "metadata": {
  "kernelspec": {
   "display_name": "Python 3",
   "language": "python",
   "name": "python3"
  },
  "language_info": {
   "codemirror_mode": {
    "name": "ipython",
    "version": 3
   },
   "file_extension": ".py",
   "mimetype": "text/x-python",
   "name": "python",
   "nbconvert_exporter": "python",
   "pygments_lexer": "ipython3",
   "version": "3.7.3"
  }
 },
 "nbformat": 4,
 "nbformat_minor": 2
}
