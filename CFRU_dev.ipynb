{
 "cells": [
  {
   "cell_type": "code",
   "execution_count": 1,
   "metadata": {},
   "outputs": [],
   "source": [
    "import copy\n",
    "import numpy as np\n",
    "import scipy.signal as signal\n",
    "import matplotlib.pyplot as plt\n",
    "\n",
    "from src.utils import Osc, PCMFM\n",
    "from src.NCO import NCO"
   ]
  },
  {
   "cell_type": "markdown",
   "metadata": {},
   "source": [
    "## Research of delay-and-multiply scheme for carrier frequency estimation"
   ]
  },
  {
   "cell_type": "code",
   "execution_count": 2,
   "metadata": {},
   "outputs": [],
   "source": [
    "# generate PCM/FM signal \n",
    "\n",
    "fs = 140e6\n",
    "fc = 10e6\n",
    "ampl = 1.\n",
    "tau = 1e-2\n",
    "R = 1e6\n",
    "df = .35*R\n",
    "bitsQnt = int(1000)\n",
    "Navg = 100\n",
    "filt=None\n",
    "\n",
    "mod = PCMFM(fs, fc, ampl, tau, df, R, filt)\n",
    "mod.automateSwitch(True, [.1])\n",
    "mod.readAll();"
   ]
  },
  {
   "cell_type": "code",
   "execution_count": 3,
   "metadata": {},
   "outputs": [
    {
     "name": "stdout",
     "output_type": "stream",
     "text": [
      "0.0\n",
      "828.4025583318669\n"
     ]
    },
    {
     "data": {
      "image/png": "[encoded data removed]",
      "text/plain": [
       "<Figure size 432x288 with 1 Axes>"
      ]
     },
     "metadata": {
      "needs_background": "light"
     },
     "output_type": "display_data"
    }
   ],
   "source": [
    "# decimate data to 4 samples per symbol approximately\n",
    "inFilt = signal.firwin(250, 2.*R/(fs/2)) # anti-aliasing filter\n",
    "delay = 1\n",
    "perSymb = 4\n",
    "DDCfactor = int( 2**np.floor(np.log2(fs / R / perSymb)) )\n",
    "\n",
    "dfs = np.linspace(-R/2, R/2, 100, endpoint=False)\n",
    "dfsEst = np.zeros_like(dfs)\n",
    "for ii, df_ in enumerate(dfs):\n",
    "    for jj in range(Navg):\n",
    "        bits = np.random.randint(2, size=bitsQnt)\n",
    "        mod.modulateOut(bits)\n",
    "        FSKdata = mod.readAll()\n",
    "        FSKdBb = signal.lfilter(inFilt, 1, FSKdata*np.exp(-1j*2*np.pi*(fc-df_)/fs*np.arange(len(FSKdata))))\n",
    "        FSKdBbDs = signal.decimate(FSKdBb, DDCfactor, ftype='fir')\n",
    "        dfEst = fs / (2*np.pi*delay*DDCfactor) * np.angle( \n",
    "            np.sum(FSKdBbDs[delay:delay+bitsQnt*perSymb] * FSKdBbDs[:bitsQnt*perSymb].conjugate()) )\n",
    "        dfsEst[ii] += dfEst\n",
    "        \n",
    "dfsEst /= Navg\n",
    "ind = np.argmin(np.abs(dfs))\n",
    "print(dfs[ind])\n",
    "print(dfsEst[ind])\n",
    "plt.plot(dfs, dfsEst);"
   ]
  },
  {
   "cell_type": "code",
   "execution_count": 4,
   "metadata": {},
   "outputs": [
    {
     "name": "stdout",
     "output_type": "stream",
     "text": [
      "-141.49673633286716\n",
      "12492.715731353845\n"
     ]
    },
    {
     "name": "stderr",
     "output_type": "stream",
     "text": [
      "C:\\Anaconda3\\envs\\myHDLenv\\lib\\site-packages\\ipykernel_launcher.py:19: MatplotlibDeprecationWarning: \n",
      "The 'normed' kwarg was deprecated in Matplotlib 2.1 and will be removed in 3.1. Use 'density' instead.\n"
     ]
    },
    {
     "data": {
      "image/png": "[encoded data removed]",
      "text/plain": [
       "<Figure size 432x288 with 1 Axes>"
      ]
     },
     "metadata": {
      "needs_background": "light"
     },
     "output_type": "display_data"
    }
   ],
   "source": [
    "Nattempts = 10000\n",
    "delay = 1\n",
    "perSymb = 4\n",
    "DDCfactor = int( 2**np.floor(np.log2(fs / R / perSymb)) )\n",
    "\n",
    "dfsEst = np.zeros(Nattempts, dtype=float)\n",
    "for ii in range(Nattempts):\n",
    "    bits = np.random.randint(2, size=bitsQnt)\n",
    "    mod.modulateOut(bits)\n",
    "    FSKdata = mod.readAll()\n",
    "    FSKdBb = signal.lfilter(inFilt, 1, FSKdata*np.exp(-1j*2*np.pi*fc/fs*np.arange(len(FSKdata))))\n",
    "    FSKdBbDs = signal.decimate(FSKdBb, DDCfactor, ftype='fir')\n",
    "    sum_ = np.sum(FSKdBbDs[delay:delay+bitsQnt*perSymb] * FSKdBbDs[:bitsQnt*perSymb].conjugate())\n",
    "    dfEst = fs / (2*np.pi*delay*DDCfactor) * np.angle( sum_ )\n",
    "    dfsEst[ii] = dfEst\n",
    "\n",
    "print(np.mean(dfsEst))\n",
    "print(np.std(dfsEst))\n",
    "plt.hist(dfsEst, normed=True, bins=30);"
   ]
  },
  {
   "cell_type": "markdown",
   "metadata": {},
   "source": [
    "### Feedforward carrier frequency estimator"
   ]
  },
  {
   "cell_type": "markdown",
   "metadata": {},
   "source": [
    "* Frequency word of NCO:\n",
    "$$ N_{NCO} = \\frac{f_0}{f_s}\\cdot{2^b} $$\n",
    "where\n",
    "    - $ f_s $ - sampling frequency\n",
    "    - $ f_0 $ - NCO frequency, $ f_0 \\in (\\frac{-f_s}{2}, \\frac{f_s}{2}) $\n",
    "    - b - bitwidth of frequency word\n",
    "\n",
    "* Frequency word step:\n",
    "$$ \\Delta N = \\frac{{2^b}\\cdot{\\Delta f}}{f_s}  $$\n",
    "where\n",
    "    - $ \\Delta f $ - frequency resolution\n",
    "\n",
    "    For $ \\Delta f = 100 Hz, b = 32, f_s = 140e6: $\n",
    "$$ \\Delta N = \\frac{{2^{32}}\\cdot{100}}{140e6} \\approx 3067 $$\n",
    "\n",
    "* Frequency word from feedforward frequency estimator:\n",
    "$$ N_{NCO} = \\frac{2^b\\cdot\\phi}{2\\cdot{del}\\cdot{dec}\\cdot{2^{b_{\\phi}-1}}} $$\n",
    "where\n",
    "    - $ \\phi $ - integer angle of sum in delay-and-multiply scheme\n",
    "    - $ del $ - delay in delay-and-multiply scheme\n",
    "    - $ dec $ - decimation factor in preceding decimation filter\n",
    "    - $ b_{\\phi} $ - bitwidth of $ \\phi $\n",
    "    \n",
    "* To estimate $ b_{\\phi} $ you must calculate:\n",
    "$$ b_{\\phi} \\geqslant 1 - log_2(\\frac{2\\cdot{\\Delta N}\\cdot{del}\\cdot{dec}}{2^b}) $$\n",
    "    For  $ del = 1, dec = 32, {\\Delta N} = 3000, b = 32: $\n",
    "$$ b_{\\phi} \\geqslant 1 - log_2(\\frac{2\\cdot{3000}\\cdot{1}\\cdot{32}}{2^{32}}) \\approx 16 $$\n",
    "\n",
    "* For preassigned $ b_{\\phi} $:\n",
    "$$ \\Delta f = \\frac{f_s}{2\\cdot{del}\\cdot{dec}\\cdot{2^{b_{\\phi}-1}}} $$"
   ]
  },
  {
   "cell_type": "code",
   "execution_count": 5,
   "metadata": {},
   "outputs": [
    {
     "name": "stdout",
     "output_type": "stream",
     "text": [
      "24.0\n"
     ]
    }
   ],
   "source": [
    "bw = 12\n",
    "Is = np.arange(2**(bw-1))\n",
    "Qs = np.arange(2**(bw-1))\n",
    "Im, Qm = np.meshgrid(Is, Qs)\n",
    "pnts = Im + 1j*Qm\n",
    "angles = np.angle(pnts)\n",
    "dAngs = np.diff(np.sort(np.unique(angles.flatten())))\n",
    "dAngsMin = np.min(dAngs)\n",
    "\n",
    "angBits = np.ceil(1 - np.log2(dAngsMin))\n",
    "print(angBits)"
   ]
  },
  {
   "cell_type": "markdown",
   "metadata": {},
   "source": [
    "So, for 12-bit data 24 bits for angle full resolution is required."
   ]
  },
  {
   "cell_type": "markdown",
   "metadata": {},
   "source": [
    "Finally, integer implementation will be look like:\n",
    "![title](img/FEST_int.jpg)"
   ]
  },
  {
   "cell_type": "code",
   "execution_count": 6,
   "metadata": {},
   "outputs": [],
   "source": [
    "class FEST(object):\n",
    "    \"\"\" Feedforward carrier Frequency ESTimator for BFSK-type signals \"\"\"\n",
    "    \n",
    "    def __init__(self, delay, frLen, fSymb, impl=('float', None)):\n",
    "        \"\"\"\n",
    "            - delay - delay in delay-and-multiply scheme\n",
    "            - frLen - number of samples in estimation frame\n",
    "            - fSymb - symbol frequency (rate)\n",
    "            - impl - implementation from [('float', None), ('int', kBw)], where\n",
    "                ('float', None) - floating point implementation;\n",
    "                ('int', kBw) - emulation of integer implementation, kBw - bitwidth of K \n",
    "        \"\"\"\n",
    "        self.delay = delay\n",
    "        self.frLen = frLen\n",
    "        self.fSymb = fSymb\n",
    "        self.setImpl(impl)\n",
    "        self._waitCnt = 0\n",
    "        self.wait = False\n",
    "        self.dataBuffer = np.array([], dtype=complex)\n",
    "        self.delBuf = np.zeros(self.delay, dtype=complex)\n",
    "        self.cordBw = 16 # temporary variable -- TODO: remove\n",
    "        self.ncoBw = 32 # temporary variable -- TODO: remove\n",
    "        self.dec = 32 # temporary variable -- TODO: remove\n",
    "        \n",
    "    def setImpl(self, impl):\n",
    "        \"\"\" set implementation type of instance\n",
    "            - impl - implementation from [('float', None), ('int', kBw)], where\n",
    "                ('float', None) - floating point implementation;\n",
    "                ('int', kBw) - emulation of integer implementation, kBw - bitwidth of K         \n",
    "        \"\"\"\n",
    "        iType, args = impl\n",
    "        self.iType = iType\n",
    "        if self.iType == 'int':\n",
    "            self.kBw = args\n",
    "        if self.iType == 'float':\n",
    "            self.K = self.fSymb / (2 * np.pi * self.delay)\n",
    "        elif self.iType == 'int':\n",
    "            self.K = np.round( 2**self.ncoBw / (self.delay * self.dec * 2**cordBw) )  # --TODO: modify\n",
    "            \n",
    "    def cordic(self, pnt):\n",
    "        \"\"\" cordic fot calculation np.angle(pnt) in integer implementation\n",
    "            - pnt - point cartesian coordinate system\n",
    "            return angle, integer in (-2**(cordBw-1), 2**(cordBw-1))\n",
    "        \"\"\"\n",
    "        pass\n",
    "        \n",
    "    def reset(self):\n",
    "        \"\"\" Reset to initial state \"\"\"\n",
    "        self.delBuf.fill(0.)\n",
    "        self.dataBuffer = np.array([], dtype=complex)\n",
    "        self.wait = False\n",
    "        self._waitCnt = 0\n",
    "#         self.rtlRefs = np.array([], dtype=self.dtype) -- TODO: uncomment for rtl-model\n",
    "#         self.rtlOuts = np.array([], dtype=self.dtype) -- TODO: uncomment for rtl-model\n",
    "\n",
    "    def _setWait(self, n):\n",
    "        \"\"\" Wait for loading additional n samples in dataBuffer\n",
    "            n - number of additional required samples\n",
    "        \"\"\"\n",
    "        self._waitCnt = n\n",
    "        self.wait = True\n",
    "\n",
    "    def loadIntoBuffer(self, d):\n",
    "        \"\"\" Load samples from d into buffer \"\"\"\n",
    "        len_ = 1 if np.isscalar(d) else len(d)\n",
    "        if len_ >= self._waitCnt:\n",
    "            self._waitCnt = 0\n",
    "            self.wait = False\n",
    "        else:\n",
    "            self._waitCnt -= len_\n",
    "        self.dataBuffer = np.append(self.dataBuffer, d)\n",
    "        \n",
    "    def estimate(self):\n",
    "        \"\"\" Estimate carrier frequency\n",
    "            return carrier frequency estimation\n",
    "        \"\"\"\n",
    "        if self.wait:\n",
    "            return None\n",
    "        else:\n",
    "            if len(self.dataBuffer) < self.frLen:\n",
    "                self._setWait(self.frLen - len(self.dataBuffer))\n",
    "                return None\n",
    "            else:\n",
    "                self.wait = False\n",
    "                data = self.dataBuffer[:self.frLen]\n",
    "                dataDel = np.hstack((self.delBuf, self.dataBuffer[:self.frLen-self.delay]))\n",
    "                self.delBuf = self.dataBuffer[-self.delay:]\n",
    "                self.dataBuffer = np.delete(self.dataBuffer, np.arange(self.frLen))\n",
    "                \n",
    "                sum_ = np.sum(data * dataDel.conjugate())\n",
    "                if self.iType == 'float':\n",
    "                    dfEst = self.K * np.angle(sum_)\n",
    "                elif self.iType == 'int':\n",
    "                    dfEst = self.K * self.cordic(sum_) # -- TODO: replace internal function with class object\n",
    "                return dfEst"
   ]
  },
  {
   "cell_type": "markdown",
   "metadata": {},
   "source": [
    "Test floating point implementation:"
   ]
  },
  {
   "cell_type": "code",
   "execution_count": 7,
   "metadata": {},
   "outputs": [
    {
     "name": "stdout",
     "output_type": "stream",
     "text": [
      "-10.978666560189083\n",
      "12488.679798628656\n"
     ]
    },
    {
     "name": "stderr",
     "output_type": "stream",
     "text": [
      "C:\\Anaconda3\\envs\\myHDLenv\\lib\\site-packages\\ipykernel_launcher.py:20: MatplotlibDeprecationWarning: \n",
      "The 'normed' kwarg was deprecated in Matplotlib 2.1 and will be removed in 3.1. Use 'density' instead.\n"
     ]
    },
    {
     "data": {
      "image/png": "[encoded data removed]",
      "text/plain": [
       "<Figure size 432x288 with 1 Axes>"
      ]
     },
     "metadata": {
      "needs_background": "light"
     },
     "output_type": "display_data"
    }
   ],
   "source": [
    "frLen = bitsQnt * perSymb\n",
    "fSymb = fs / DDCfactor\n",
    "impl = ('float', None)\n",
    "fest = FEST(delay, frLen, fSymb, impl)\n",
    "\n",
    "dfsEst = np.zeros(Nattempts, dtype=float)\n",
    "for ii in range(Nattempts):\n",
    "    bits = np.random.randint(2, size=bitsQnt)\n",
    "    mod.modulateOut(bits)\n",
    "    FSKdata = mod.readAll()\n",
    "    FSKdBb = signal.lfilter(inFilt, 1, FSKdata*np.exp(-1j*2*np.pi*fc/fs*np.arange(len(FSKdata))))\n",
    "    FSKdBbDs = signal.decimate(FSKdBb, DDCfactor, ftype='fir')\n",
    "    fest.reset()\n",
    "    fest.loadIntoBuffer(FSKdBbDs)\n",
    "    dfEst = fest.estimate()\n",
    "    dfsEst[ii] = dfEst\n",
    "\n",
    "print(np.mean(dfsEst))\n",
    "print(np.std(dfsEst))\n",
    "plt.hist(dfsEst, normed=True, bins=30);"
   ]
  },
  {
   "cell_type": "code",
   "execution_count": 8,
   "metadata": {},
   "outputs": [
    {
     "name": "stdout",
     "output_type": "stream",
     "text": [
      "0.0\n",
      "-348.3376141497184\n"
     ]
    },
    {
     "data": {
      "image/png": "[encoded data removed]",
      "text/plain": [
       "<Figure size 432x288 with 1 Axes>"
      ]
     },
     "metadata": {
      "needs_background": "light"
     },
     "output_type": "display_data"
    }
   ],
   "source": [
    "dfsEst = np.zeros_like(dfs)\n",
    "for ii, df_ in enumerate(dfs):\n",
    "    for jj in range(Navg):\n",
    "        bits = np.random.randint(2, size=bitsQnt)\n",
    "        mod.modulateOut(bits)\n",
    "        FSKdata = mod.readAll()\n",
    "        FSKdBb = signal.lfilter(inFilt, 1, FSKdata*np.exp(-1j*2*np.pi*(fc-df_)/fs*np.arange(len(FSKdata))))\n",
    "        FSKdBbDs = signal.decimate(FSKdBb, DDCfactor, ftype='fir')\n",
    "        fest.reset()\n",
    "        fest.loadIntoBuffer(FSKdBbDs)\n",
    "        dfEst = fest.estimate()\n",
    "        dfsEst[ii] += dfEst\n",
    "        \n",
    "dfsEst /= Navg\n",
    "ind = np.argmin(np.abs(dfs))\n",
    "print(dfs[ind])\n",
    "print(dfsEst[ind])\n",
    "plt.plot(dfs, dfsEst);"
   ]
  },
  {
   "cell_type": "code",
   "execution_count": 108,
   "metadata": {},
   "outputs": [
    {
     "name": "stdout",
     "output_type": "stream",
     "text": [
      " cordic: 14507\n",
      " reference: 14508\n",
      "error: 1\n"
     ]
    }
   ],
   "source": [
    "def cordic(pnt, N, bw=16):\n",
    "    angs = np.array([int(np.round(2**(bw-1)/np.pi * np.arctan(1/2**ii))) for ii in range(N)])\n",
    "    x, y = int(pnt.real), int(pnt.imag)\n",
    "    xprev = x\n",
    "    z = 0\n",
    "    # initial rotate by +/- np.pi/2\n",
    "    if x >= 0:\n",
    "        z = 0\n",
    "    elif y >= 0:\n",
    "        x = y\n",
    "        y = -xprev\n",
    "        xprev = x\n",
    "        z = 2**(bw-2)\n",
    "    else:\n",
    "        x = -y\n",
    "        y = xprev\n",
    "        xprev = x\n",
    "        z = - 2**(bw-2)\n",
    "        \n",
    "    for ii in range(N):\n",
    "        if y >= 0:\n",
    "            x = x + (y >> ii)\n",
    "            y = y - (xprev >> ii)\n",
    "            xprev = x\n",
    "            z += angs[ii]\n",
    "        elif y < 0:\n",
    "            x = x - (y >> ii)\n",
    "            y = y + (xprev >> ii)\n",
    "            xprev = x\n",
    "            z -= angs[ii]\n",
    "    return z\n",
    "\n",
    "\n",
    "bw = 16\n",
    "np.random.seed(12458)\n",
    "pnt = np.random.randint(1000) + 1j*np.random.randint(1000)\n",
    "pnt = 10000 + 1j*55000\n",
    "\n",
    "phi = cordic(pnt, 14, bw=16)\n",
    "ref = int(np.round(2**(bw-1) / np.pi * np.angle(pnt)))\n",
    "err = np.abs(phi - ref)\n",
    "print(f\" cordic: {phi}\")\n",
    "print(f\" reference: {ref}\")\n",
    "print(f\"error: {err}\")"
   ]
  },
  {
   "cell_type": "code",
   "execution_count": 113,
   "metadata": {},
   "outputs": [
    {
     "ename": "KeyboardInterrupt",
     "evalue": "",
     "output_type": "error",
     "traceback": [
      "\u001b[1;31m---------------------------------------------------------------------------\u001b[0m",
      "\u001b[1;31mKeyboardInterrupt\u001b[0m                         Traceback (most recent call last)",
      "\u001b[1;32m<ipython-input-113-f226aa0b7ae6>\u001b[0m in \u001b[0;36m<module>\u001b[1;34m\u001b[0m\n\u001b[0;32m     15\u001b[0m         \u001b[1;32mfor\u001b[0m \u001b[0mkk\u001b[0m \u001b[1;32min\u001b[0m \u001b[0mrange\u001b[0m\u001b[1;33m(\u001b[0m\u001b[1;36m2\u001b[0m\u001b[1;33m**\u001b[0m\u001b[0mdBw\u001b[0m\u001b[1;33m)\u001b[0m\u001b[1;33m:\u001b[0m\u001b[1;33m\u001b[0m\u001b[1;33m\u001b[0m\u001b[0m\n\u001b[0;32m     16\u001b[0m             \u001b[1;32mif\u001b[0m \u001b[1;33m(\u001b[0m\u001b[0mabs\u001b[0m\u001b[1;33m(\u001b[0m\u001b[0mjj\u001b[0m\u001b[1;33m-\u001b[0m\u001b[1;36m2\u001b[0m\u001b[1;33m**\u001b[0m\u001b[1;33m(\u001b[0m\u001b[0mdBw\u001b[0m\u001b[1;33m-\u001b[0m\u001b[1;36m1\u001b[0m\u001b[1;33m)\u001b[0m\u001b[1;33m)\u001b[0m \u001b[1;33m>=\u001b[0m\u001b[0mcompMin\u001b[0m\u001b[1;33m)\u001b[0m \u001b[1;32mand\u001b[0m \u001b[1;33m(\u001b[0m\u001b[0mabs\u001b[0m\u001b[1;33m(\u001b[0m\u001b[0mkk\u001b[0m\u001b[1;33m-\u001b[0m\u001b[1;36m2\u001b[0m\u001b[1;33m**\u001b[0m\u001b[1;33m(\u001b[0m\u001b[0mdBw\u001b[0m\u001b[1;33m-\u001b[0m\u001b[1;36m1\u001b[0m\u001b[1;33m)\u001b[0m\u001b[1;33m)\u001b[0m \u001b[1;33m>=\u001b[0m\u001b[0mcompMin\u001b[0m\u001b[1;33m)\u001b[0m\u001b[1;33m:\u001b[0m\u001b[1;33m\u001b[0m\u001b[1;33m\u001b[0m\u001b[0m\n\u001b[1;32m---> 17\u001b[1;33m                 \u001b[0manglesTmp\u001b[0m\u001b[1;33m[\u001b[0m\u001b[0mjj\u001b[0m\u001b[1;33m,\u001b[0m \u001b[0mkk\u001b[0m\u001b[1;33m]\u001b[0m \u001b[1;33m=\u001b[0m \u001b[0mcordic\u001b[0m\u001b[1;33m(\u001b[0m\u001b[1;33m(\u001b[0m\u001b[0mjj\u001b[0m\u001b[1;33m-\u001b[0m\u001b[1;36m2\u001b[0m\u001b[1;33m**\u001b[0m\u001b[1;33m(\u001b[0m\u001b[0mdBw\u001b[0m\u001b[1;33m-\u001b[0m\u001b[1;36m1\u001b[0m\u001b[1;33m)\u001b[0m\u001b[1;33m)\u001b[0m \u001b[1;33m+\u001b[0m \u001b[1;36m1j\u001b[0m\u001b[1;33m*\u001b[0m\u001b[1;33m(\u001b[0m\u001b[0mkk\u001b[0m\u001b[1;33m-\u001b[0m\u001b[1;36m2\u001b[0m\u001b[1;33m**\u001b[0m\u001b[1;33m(\u001b[0m\u001b[0mdBw\u001b[0m\u001b[1;33m-\u001b[0m\u001b[1;36m1\u001b[0m\u001b[1;33m)\u001b[0m\u001b[1;33m)\u001b[0m\u001b[1;33m,\u001b[0m \u001b[0mii\u001b[0m\u001b[1;33m,\u001b[0m \u001b[0mbw\u001b[0m\u001b[1;33m=\u001b[0m\u001b[0mbw\u001b[0m\u001b[1;33m)\u001b[0m\u001b[1;33m\u001b[0m\u001b[1;33m\u001b[0m\u001b[0m\n\u001b[0m\u001b[0;32m     18\u001b[0m             \u001b[1;32melse\u001b[0m\u001b[1;33m:\u001b[0m\u001b[1;33m\u001b[0m\u001b[1;33m\u001b[0m\u001b[0m\n\u001b[0;32m     19\u001b[0m                 \u001b[0manglesTmp\u001b[0m\u001b[1;33m[\u001b[0m\u001b[0mjj\u001b[0m\u001b[1;33m,\u001b[0m \u001b[0mkk\u001b[0m\u001b[1;33m]\u001b[0m \u001b[1;33m=\u001b[0m \u001b[0manglesRef\u001b[0m\u001b[1;33m[\u001b[0m\u001b[0mjj\u001b[0m\u001b[1;33m,\u001b[0m \u001b[0mkk\u001b[0m\u001b[1;33m]\u001b[0m\u001b[1;33m\u001b[0m\u001b[1;33m\u001b[0m\u001b[0m\n",
      "\u001b[1;32m<ipython-input-108-49231d5e1df5>\u001b[0m in \u001b[0;36mcordic\u001b[1;34m(pnt, N, bw)\u001b[0m\n\u001b[0;32m      1\u001b[0m \u001b[1;32mdef\u001b[0m \u001b[0mcordic\u001b[0m\u001b[1;33m(\u001b[0m\u001b[0mpnt\u001b[0m\u001b[1;33m,\u001b[0m \u001b[0mN\u001b[0m\u001b[1;33m,\u001b[0m \u001b[0mbw\u001b[0m\u001b[1;33m=\u001b[0m\u001b[1;36m16\u001b[0m\u001b[1;33m)\u001b[0m\u001b[1;33m:\u001b[0m\u001b[1;33m\u001b[0m\u001b[1;33m\u001b[0m\u001b[0m\n\u001b[1;32m----> 2\u001b[1;33m     \u001b[0mangs\u001b[0m \u001b[1;33m=\u001b[0m \u001b[0mnp\u001b[0m\u001b[1;33m.\u001b[0m\u001b[0marray\u001b[0m\u001b[1;33m(\u001b[0m\u001b[1;33m[\u001b[0m\u001b[0mint\u001b[0m\u001b[1;33m(\u001b[0m\u001b[0mnp\u001b[0m\u001b[1;33m.\u001b[0m\u001b[0mround\u001b[0m\u001b[1;33m(\u001b[0m\u001b[1;36m2\u001b[0m\u001b[1;33m**\u001b[0m\u001b[1;33m(\u001b[0m\u001b[0mbw\u001b[0m\u001b[1;33m-\u001b[0m\u001b[1;36m1\u001b[0m\u001b[1;33m)\u001b[0m\u001b[1;33m/\u001b[0m\u001b[0mnp\u001b[0m\u001b[1;33m.\u001b[0m\u001b[0mpi\u001b[0m \u001b[1;33m*\u001b[0m \u001b[0mnp\u001b[0m\u001b[1;33m.\u001b[0m\u001b[0marctan\u001b[0m\u001b[1;33m(\u001b[0m\u001b[1;36m1\u001b[0m\u001b[1;33m/\u001b[0m\u001b[1;36m2\u001b[0m\u001b[1;33m**\u001b[0m\u001b[0mii\u001b[0m\u001b[1;33m)\u001b[0m\u001b[1;33m)\u001b[0m\u001b[1;33m)\u001b[0m \u001b[1;32mfor\u001b[0m \u001b[0mii\u001b[0m \u001b[1;32min\u001b[0m \u001b[0mrange\u001b[0m\u001b[1;33m(\u001b[0m\u001b[0mN\u001b[0m\u001b[1;33m)\u001b[0m\u001b[1;33m]\u001b[0m\u001b[1;33m)\u001b[0m\u001b[1;33m\u001b[0m\u001b[1;33m\u001b[0m\u001b[0m\n\u001b[0m\u001b[0;32m      3\u001b[0m     \u001b[0mx\u001b[0m\u001b[1;33m,\u001b[0m \u001b[0my\u001b[0m \u001b[1;33m=\u001b[0m \u001b[0mint\u001b[0m\u001b[1;33m(\u001b[0m\u001b[0mpnt\u001b[0m\u001b[1;33m.\u001b[0m\u001b[0mreal\u001b[0m\u001b[1;33m)\u001b[0m\u001b[1;33m,\u001b[0m \u001b[0mint\u001b[0m\u001b[1;33m(\u001b[0m\u001b[0mpnt\u001b[0m\u001b[1;33m.\u001b[0m\u001b[0mimag\u001b[0m\u001b[1;33m)\u001b[0m\u001b[1;33m\u001b[0m\u001b[1;33m\u001b[0m\u001b[0m\n\u001b[0;32m      4\u001b[0m     \u001b[0mxprev\u001b[0m \u001b[1;33m=\u001b[0m \u001b[0mx\u001b[0m\u001b[1;33m\u001b[0m\u001b[1;33m\u001b[0m\u001b[0m\n\u001b[0;32m      5\u001b[0m     \u001b[0mz\u001b[0m \u001b[1;33m=\u001b[0m \u001b[1;36m0\u001b[0m\u001b[1;33m\u001b[0m\u001b[1;33m\u001b[0m\u001b[0m\n",
      "\u001b[1;32m<ipython-input-108-49231d5e1df5>\u001b[0m in \u001b[0;36m<listcomp>\u001b[1;34m(.0)\u001b[0m\n\u001b[0;32m      1\u001b[0m \u001b[1;32mdef\u001b[0m \u001b[0mcordic\u001b[0m\u001b[1;33m(\u001b[0m\u001b[0mpnt\u001b[0m\u001b[1;33m,\u001b[0m \u001b[0mN\u001b[0m\u001b[1;33m,\u001b[0m \u001b[0mbw\u001b[0m\u001b[1;33m=\u001b[0m\u001b[1;36m16\u001b[0m\u001b[1;33m)\u001b[0m\u001b[1;33m:\u001b[0m\u001b[1;33m\u001b[0m\u001b[1;33m\u001b[0m\u001b[0m\n\u001b[1;32m----> 2\u001b[1;33m     \u001b[0mangs\u001b[0m \u001b[1;33m=\u001b[0m \u001b[0mnp\u001b[0m\u001b[1;33m.\u001b[0m\u001b[0marray\u001b[0m\u001b[1;33m(\u001b[0m\u001b[1;33m[\u001b[0m\u001b[0mint\u001b[0m\u001b[1;33m(\u001b[0m\u001b[0mnp\u001b[0m\u001b[1;33m.\u001b[0m\u001b[0mround\u001b[0m\u001b[1;33m(\u001b[0m\u001b[1;36m2\u001b[0m\u001b[1;33m**\u001b[0m\u001b[1;33m(\u001b[0m\u001b[0mbw\u001b[0m\u001b[1;33m-\u001b[0m\u001b[1;36m1\u001b[0m\u001b[1;33m)\u001b[0m\u001b[1;33m/\u001b[0m\u001b[0mnp\u001b[0m\u001b[1;33m.\u001b[0m\u001b[0mpi\u001b[0m \u001b[1;33m*\u001b[0m \u001b[0mnp\u001b[0m\u001b[1;33m.\u001b[0m\u001b[0marctan\u001b[0m\u001b[1;33m(\u001b[0m\u001b[1;36m1\u001b[0m\u001b[1;33m/\u001b[0m\u001b[1;36m2\u001b[0m\u001b[1;33m**\u001b[0m\u001b[0mii\u001b[0m\u001b[1;33m)\u001b[0m\u001b[1;33m)\u001b[0m\u001b[1;33m)\u001b[0m \u001b[1;32mfor\u001b[0m \u001b[0mii\u001b[0m \u001b[1;32min\u001b[0m \u001b[0mrange\u001b[0m\u001b[1;33m(\u001b[0m\u001b[0mN\u001b[0m\u001b[1;33m)\u001b[0m\u001b[1;33m]\u001b[0m\u001b[1;33m)\u001b[0m\u001b[1;33m\u001b[0m\u001b[1;33m\u001b[0m\u001b[0m\n\u001b[0m\u001b[0;32m      3\u001b[0m     \u001b[0mx\u001b[0m\u001b[1;33m,\u001b[0m \u001b[0my\u001b[0m \u001b[1;33m=\u001b[0m \u001b[0mint\u001b[0m\u001b[1;33m(\u001b[0m\u001b[0mpnt\u001b[0m\u001b[1;33m.\u001b[0m\u001b[0mreal\u001b[0m\u001b[1;33m)\u001b[0m\u001b[1;33m,\u001b[0m \u001b[0mint\u001b[0m\u001b[1;33m(\u001b[0m\u001b[0mpnt\u001b[0m\u001b[1;33m.\u001b[0m\u001b[0mimag\u001b[0m\u001b[1;33m)\u001b[0m\u001b[1;33m\u001b[0m\u001b[1;33m\u001b[0m\u001b[0m\n\u001b[0;32m      4\u001b[0m     \u001b[0mxprev\u001b[0m \u001b[1;33m=\u001b[0m \u001b[0mx\u001b[0m\u001b[1;33m\u001b[0m\u001b[1;33m\u001b[0m\u001b[0m\n\u001b[0;32m      5\u001b[0m     \u001b[0mz\u001b[0m \u001b[1;33m=\u001b[0m \u001b[1;36m0\u001b[0m\u001b[1;33m\u001b[0m\u001b[1;33m\u001b[0m\u001b[0m\n",
      "\u001b[1;31mKeyboardInterrupt\u001b[0m: "
     ]
    }
   ],
   "source": [
    "dBw = 12\n",
    "bw = 16\n",
    "compMin = 128\n",
    "Is = np.arange(-2**(dBw-1), 2**(dBw-1))\n",
    "Qs = np.arange(-2**(dBw-1), 2**(dBw-1))\n",
    "Im, Qm = np.meshgrid(Is, Qs)\n",
    "pnts = Im + 1j*Qm\n",
    "anglesRef = (np.round(2**(bw-1) / np.pi * np.angle(pnts))).astype(int)\n",
    "anglesTmp = np.zeros_like(anglesRef)\n",
    "bitsMin = 8\n",
    "bitsMax = 20\n",
    "errsMax = np.zeros(bitsMax-bitsMin+1)\n",
    "for ii in range(bitsMin, bitsMax+1):\n",
    "    for jj in range(2**(dBw)):\n",
    "        for kk in range(2**dBw):\n",
    "            if (abs(jj-2**(dBw-1)) >=compMin) and (abs(kk-2**(dBw-1)) >=compMin):\n",
    "                anglesTmp[jj, kk] = cordic((jj-2**(dBw-1)) + 1j*(kk-2**(dBw-1)), ii, bw=bw)\n",
    "            else:\n",
    "                anglesTmp[jj, kk] = anglesRef[jj, kk]\n",
    "    errs = np.abs(anglesRef - anglesTmp)\n",
    "    errsMax[ii-bitsMin] = np.max(errs)\n",
    "\n",
    "print(errsMax)"
   ]
  },
  {
   "cell_type": "code",
   "execution_count": null,
   "metadata": {},
   "outputs": [],
   "source": []
  }
 ],
 "metadata": {
  "kernelspec": {
   "display_name": "Python 3",
   "language": "python",
   "name": "python3"
  },
  "language_info": {
   "codemirror_mode": {
    "name": "ipython",
    "version": 3
   },
   "file_extension": ".py",
   "mimetype": "text/x-python",
   "name": "python",
   "nbconvert_exporter": "python",
   "pygments_lexer": "ipython3",
   "version": "3.6.8"
  }
 },
 "nbformat": 4,
 "nbformat_minor": 2
}
